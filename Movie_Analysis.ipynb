{
  "nbformat": 4,
  "nbformat_minor": 0,
  "metadata": {
    "colab": {
      "name": "Movie_Analysis.ipynb",
      "version": "0.3.2",
      "provenance": [],
      "include_colab_link": true
    },
    "kernelspec": {
      "name": "python3",
      "display_name": "Python 3"
    },
    "accelerator": "GPU"
  },
  "cells": [
    {
      "cell_type": "markdown",
      "metadata": {
        "id": "view-in-github",
        "colab_type": "text"
      },
      "source": [
        "[View in Colaboratory](https://colab.research.google.com/github/neoaksa/IMDB_Spider/blob/master/Movie_Analysis.ipynb)"
      ]
    },
    {
      "metadata": {
        "id": "9bCrpfroceAE",
        "colab_type": "code",
        "colab": {
          "resources": {
            "http://localhost:8080/nbextensions/google.colab/files.js": {
              "data": "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",
              "ok": true,
              "headers": [
                [
                  "content-type",
                  "application/javascript"
                ]
              ],
              "status": 200,
              "status_text": "OK"
            }
          },
          "base_uri": "https://localhost:8080/",
          "height": 197
        },
        "outputId": "5a4e94cf-c6a0-400a-c567-e6a9f92e05f5"
      },
      "cell_type": "code",
      "source": [
        "#upload result of crawling\n",
        "from google.colab import files\n",
        "import os\n",
        "#if exists, remove\n",
        "try:\n",
        "    os.remove('MovieReview.csv')\n",
        "except OSError:\n",
        "    pass\n",
        "try:\n",
        "    os.remove('MovieItem.csv')\n",
        "except OSError:\n",
        "    pass\n",
        "\n",
        "try:\n",
        "    os.remove('MovieStar.csv')\n",
        "except OSError:\n",
        "    pass\n",
        "\n",
        "# upload\n",
        "uploaded = files.upload()\n",
        "\n",
        "for fn in uploaded.keys():\n",
        "  print('User uploaded file \"{name}\" with length {length} bytes'.format(\n",
        "      name=fn, length=len(uploaded[fn])))"
      ],
      "execution_count": 1,
      "outputs": [
        {
          "output_type": "display_data",
          "data": {
            "text/html": [
              "\n",
              "     <input type=\"file\" id=\"files-026d4bfd-db92-4c12-8982-f5dfe26784ae\" name=\"files[]\" multiple disabled />\n",
              "     <output id=\"result-026d4bfd-db92-4c12-8982-f5dfe26784ae\">\n",
              "      Upload widget is only available when the cell has been executed in the\n",
              "      current browser session. Please rerun this cell to enable.\n",
              "      </output>\n",
              "      <script src=\"/nbextensions/google.colab/files.js\"></script> "
            ],
            "text/plain": [
              "<IPython.core.display.HTML object>"
            ]
          },
          "metadata": {
            "tags": []
          }
        },
        {
          "output_type": "stream",
          "text": [
            "Saving MovieStar.csv to MovieStar.csv\n",
            "Saving MovieReview.csv to MovieReview.csv\n",
            "Saving MovieItem.csv to MovieItem.csv\n",
            "User uploaded file \"MovieStar.csv\" with length 44265 bytes\n",
            "User uploaded file \"MovieReview.csv\" with length 12946185 bytes\n",
            "User uploaded file \"MovieItem.csv\" with length 45525 bytes\n"
          ],
          "name": "stdout"
        }
      ]
    },
    {
      "metadata": {
        "id": "lkymnpjPNThC",
        "colab_type": "code",
        "colab": {
          "base_uri": "https://localhost:8080/",
          "height": 175
        },
        "outputId": "3c723b12-4390-45bf-fb3c-ab3892b6a75a"
      },
      "cell_type": "code",
      "source": [
        "import pandas as pd\n",
        "import numpy as np\n",
        "\n",
        "df_movieItem = pd.read_csv('MovieItem.csv', delimiter=',',index_col=['id'])\n",
        "df_movieReview = pd.read_csv('MovieReview.csv', delimiter=',',index_col=['id'])\n",
        "df_movieStar = pd.read_csv('MovieStar.csv', delimiter=',',index_col=['id'])\n",
        "# sort by index id(also known by rating)\n",
        "df_movieItem = df_movieItem.sort_index(axis=0)\n",
        "# overview\n",
        "df_movieItem.describe()"
      ],
      "execution_count": 2,
      "outputs": [
        {
          "output_type": "execute_result",
          "data": {
            "text/html": [
              "<div>\n",
              "<style scoped>\n",
              "    .dataframe tbody tr th:only-of-type {\n",
              "        vertical-align: middle;\n",
              "    }\n",
              "\n",
              "    .dataframe tbody tr th {\n",
              "        vertical-align: top;\n",
              "    }\n",
              "\n",
              "    .dataframe thead th {\n",
              "        text-align: right;\n",
              "    }\n",
              "</style>\n",
              "<table border=\"1\" class=\"dataframe\">\n",
              "  <thead>\n",
              "    <tr style=\"text-align: right;\">\n",
              "      <th></th>\n",
              "      <th>title</th>\n",
              "      <th>directors</th>\n",
              "      <th>writers</th>\n",
              "      <th>stars</th>\n",
              "      <th>stars_id</th>\n",
              "      <th>popularity</th>\n",
              "      <th>rating</th>\n",
              "    </tr>\n",
              "  </thead>\n",
              "  <tbody>\n",
              "    <tr>\n",
              "      <th>count</th>\n",
              "      <td>250</td>\n",
              "      <td>250</td>\n",
              "      <td>250</td>\n",
              "      <td>250</td>\n",
              "      <td>250</td>\n",
              "      <td>250</td>\n",
              "      <td>250</td>\n",
              "    </tr>\n",
              "    <tr>\n",
              "      <th>unique</th>\n",
              "      <td>250</td>\n",
              "      <td>152</td>\n",
              "      <td>224</td>\n",
              "      <td>248</td>\n",
              "      <td>248</td>\n",
              "      <td>46</td>\n",
              "      <td>12</td>\n",
              "    </tr>\n",
              "    <tr>\n",
              "      <th>top</th>\n",
              "      <td>The Bridge on the River Kwai</td>\n",
              "      <td>Martin Scorsese</td>\n",
              "      <td>['Charles Chaplin']</td>\n",
              "      <td>['Mark Hamill', 'Harrison Ford', 'Carrie Fisher']</td>\n",
              "      <td>['nm0000434', 'nm0000148', 'nm0000402']</td>\n",
              "      <td>[]</td>\n",
              "      <td>['8.1']</td>\n",
              "    </tr>\n",
              "    <tr>\n",
              "      <th>freq</th>\n",
              "      <td>1</td>\n",
              "      <td>7</td>\n",
              "      <td>5</td>\n",
              "      <td>3</td>\n",
              "      <td>3</td>\n",
              "      <td>50</td>\n",
              "      <td>67</td>\n",
              "    </tr>\n",
              "  </tbody>\n",
              "</table>\n",
              "</div>"
            ],
            "text/plain": [
              "                               title        directors              writers  \\\n",
              "count                            250              250                  250   \n",
              "unique                           250              152                  224   \n",
              "top     The Bridge on the River Kwai  Martin Scorsese  ['Charles Chaplin']   \n",
              "freq                               1                7                    5   \n",
              "\n",
              "                                                    stars  \\\n",
              "count                                                 250   \n",
              "unique                                                248   \n",
              "top     ['Mark Hamill', 'Harrison Ford', 'Carrie Fisher']   \n",
              "freq                                                    3   \n",
              "\n",
              "                                       stars_id popularity   rating  \n",
              "count                                       250        250      250  \n",
              "unique                                      248         46       12  \n",
              "top     ['nm0000434', 'nm0000148', 'nm0000402']         []  ['8.1']  \n",
              "freq                                          3         50       67  "
            ]
          },
          "metadata": {
            "tags": []
          },
          "execution_count": 2
        }
      ]
    },
    {
      "metadata": {
        "id": "OkAO6z15PKfW",
        "colab_type": "code",
        "colab": {
          "base_uri": "https://localhost:8080/",
          "height": 399
        },
        "outputId": "ffdc775d-9c6a-4a69-ee5b-67f8694a90c9"
      },
      "cell_type": "code",
      "source": [
        "# stars analysis\n",
        "# pre-process for movieItem and movieStar\n",
        "star_list = []\n",
        "for index,stars in df_movieItem[['stars','stars_id']].iterrows():\n",
        "    star_list += [(x.lstrip().replace('\"',''),y.lstrip().replace('\"','')) \n",
        "                  for x,y in zip(stars['stars'][1:-1].replace('\\'','').split(','),stars['stars_id'][1:-1].replace('\\'','').split(','))]\n",
        "#     star_id_list += [x.lstrip().replace('\"','') for x in stars['stars_id'][1:-1].replace('\\'','').split(',')]\n",
        "# reduce duplicate\n",
        "star_list = list(set(star_list))\n",
        "# create a dataframe for output\n",
        "df_star = pd.DataFrame(columns=['stars_id','stars','avg_rating','num_movie'])\n",
        "df_star['stars_id'] = [x[1] for x in star_list]\n",
        "df_star['stars'] = [x[0] for x in star_list]\n",
        "for index,star_id in enumerate(df_star['stars_id']):\n",
        "    filter = df_movieItem['stars_id'].str.contains(star_id)\n",
        "    df_star['num_movie'][index] = len(df_movieItem[filter])\n",
        "    df_star['avg_rating'][index] = pd.to_numeric(df_movieItem[filter]['rating'].str[2:-2]).sum(axis=0)/df_star['num_movie'][index]\n",
        "# left join star information\n",
        "df_star\n",
        "# order by # of movies\n",
        "df_star = df_star.sort_values(['num_movie'],ascending=False)\n",
        "print(df_star.head(10))\n",
        "# order by avg rating\n",
        "df_star = df_star.sort_values(['avg_rating'],ascending=False)\n",
        "print(df_star.head(10))"
      ],
      "execution_count": 3,
      "outputs": [
        {
          "output_type": "stream",
          "text": [
            "      stars_id              stars avg_rating num_movie\n",
            "496  nm0000134     Robert De Niro      8.375         8\n",
            "168  nm0000148      Harrison Ford    8.34286         7\n",
            "571  nm0000158          Tom Hanks    8.38333         6\n",
            "268  nm0000138  Leonardo DiCaprio        8.3         6\n",
            "522  nm0000142     Clint Eastwood       8.28         5\n",
            "236  nm0451148         Aamir Khan        8.2         5\n",
            "354  nm0000122    Charles Chaplin       8.38         5\n",
            "229  nm0000093          Brad Pitt        8.5         4\n",
            "231  nm0000354         Matt Damon      8.325         4\n",
            "398  nm0000071      James Stewart      8.375         4\n",
            "      stars_id              stars avg_rating num_movie\n",
            "192  nm0348409         Bob Gunton        9.2         1\n",
            "384  nm0000209        Tim Robbins        9.2         1\n",
            "87   nm0001001         James Caan        9.2         1\n",
            "567  nm0005132       Heath Ledger          9         1\n",
            "316  nm0001173      Aaron Eckhart          9         1\n",
            "381  nm0000237      John Travolta        8.9         1\n",
            "383  nm0000842      Martin Balsam        8.9         1\n",
            "423  nm0000553        Liam Neeson        8.9         1\n",
            "199  nm0000168  Samuel L. Jackson        8.9         1\n",
            "124  nm0908919        Eli Wallach        8.8         1\n"
          ],
          "name": "stdout"
        }
      ]
    },
    {
      "metadata": {
        "id": "q7rLe9yhaQba",
        "colab_type": "text"
      },
      "cell_type": "markdown",
      "source": [
        "Accordig this breif table, we can find **Robert De Niro** took the most movies in top 250 list. Followed by **Harrison**,**Tom** and **Leonardo** ."
      ]
    },
    {
      "metadata": {
        "id": "HTD7Kz8dPMc3",
        "colab_type": "code",
        "colab": {
          "base_uri": "https://localhost:8080/",
          "height": 1255
        },
        "outputId": "1f4da5ac-12ce-452f-cfd0-47bfa32014a0"
      },
      "cell_type": "code",
      "source": [
        "# visual stars\n",
        "import matplotlib.pyplot as plt\n",
        "# figure = plt.figure()\n",
        "ax1 = plt.subplot()\n",
        "df_aggbyMovie = df_star[df_star['num_movie']>0].groupby(['num_movie']).agg({'stars_id':np.size})\n",
        "df_aggbyMovie.columns.values[0] ='freq'\n",
        "df_aggbyMovie = df_aggbyMovie.sort_values(['freq'])\n",
        "acc_numMovie = np.cumsum(df_aggbyMovie['freq'])\n",
        "ax1.plot(acc_numMovie)\n",
        "ax1.set_xlabel('# of movies')\n",
        "ax1.set_ylabel('cumulated # of stars')\n",
        "ax1.set_title('Cumulated chart for each segement')\n",
        "plt.gca().invert_xaxis()\n",
        "plt.show()\n",
        "\n",
        "ax2 = plt.subplot()\n",
        "ax2.pie(df_aggbyMovie,\n",
        "       labels=df_aggbyMovie.index,\n",
        "       startangle=90,\n",
        "       autopct='%1.1f%%')\n",
        "ax2.set_title('Percetage of segements')\n",
        "plt.show()\n",
        "\n",
        "# check out which moive the best stars perform. - best stars: who took more than one movies in the top250 list\n",
        "df_star_2plus = df_star[df_star['num_movie']>1]['stars_id']\n",
        "i = 0\n",
        "movie_list = []\n",
        "for index,row in df_movieItem[['stars_id','title']].iterrows():\n",
        "    for x in df_star_2plus.values:\n",
        "        if x in row['stars_id']:\n",
        "            i +=1\n",
        "            movie_list.append(row['title'])\n",
        "            break\n",
        "df_movieItem[df_movieItem['title'].isin(movie_list)].head(10)"
      ],
      "execution_count": 55,
      "outputs": [
        {
          "output_type": "display_data",
          "data": {
            "image/png": "[encoded data removed]",
            "text/plain": [
              "<matplotlib.figure.Figure at 0x7fe345fcc320>"
            ]
          },
          "metadata": {
            "tags": []
          }
        },
        {
          "output_type": "display_data",
          "data": {
            "image/png": "[encoded data removed]",
            "text/plain": [
              "<matplotlib.figure.Figure at 0x7fe345ea9748>"
            ]
          },
          "metadata": {
            "tags": []
          }
        },
        {
          "output_type": "execute_result",
          "data": {
            "text/html": [
              "<div>\n",
              "<style scoped>\n",
              "    .dataframe tbody tr th:only-of-type {\n",
              "        vertical-align: middle;\n",
              "    }\n",
              "\n",
              "    .dataframe tbody tr th {\n",
              "        vertical-align: top;\n",
              "    }\n",
              "\n",
              "    .dataframe thead th {\n",
              "        text-align: right;\n",
              "    }\n",
              "</style>\n",
              "<table border=\"1\" class=\"dataframe\">\n",
              "  <thead>\n",
              "    <tr style=\"text-align: right;\">\n",
              "      <th></th>\n",
              "      <th>title</th>\n",
              "      <th>directors</th>\n",
              "      <th>writers</th>\n",
              "      <th>stars</th>\n",
              "      <th>stars_id</th>\n",
              "      <th>popularity</th>\n",
              "      <th>rating</th>\n",
              "    </tr>\n",
              "    <tr>\n",
              "      <th>id</th>\n",
              "      <th></th>\n",
              "      <th></th>\n",
              "      <th></th>\n",
              "      <th></th>\n",
              "      <th></th>\n",
              "      <th></th>\n",
              "      <th></th>\n",
              "    </tr>\n",
              "  </thead>\n",
              "  <tbody>\n",
              "    <tr>\n",
              "      <th>2</th>\n",
              "      <td>The Shawshank Redemption</td>\n",
              "      <td>Frank Darabont</td>\n",
              "      <td>['Stephen King', 'Frank Darabont']</td>\n",
              "      <td>['Tim Robbins', 'Morgan Freeman', 'Bob Gunton']</td>\n",
              "      <td>['nm0000209', 'nm0000151', 'nm0348409']</td>\n",
              "      <td>['80']</td>\n",
              "      <td>['9.2']</td>\n",
              "    </tr>\n",
              "    <tr>\n",
              "      <th>3</th>\n",
              "      <td>The Godfather</td>\n",
              "      <td>Francis Ford Coppola</td>\n",
              "      <td>['Mario Puzo', 'Francis Ford Coppola']</td>\n",
              "      <td>['Marlon Brando', 'Al Pacino', 'James Caan']</td>\n",
              "      <td>['nm0000008', 'nm0000199', 'nm0001001']</td>\n",
              "      <td>['100']</td>\n",
              "      <td>['9.2']</td>\n",
              "    </tr>\n",
              "    <tr>\n",
              "      <th>4</th>\n",
              "      <td>The Godfather: Part II</td>\n",
              "      <td>Francis Ford Coppola</td>\n",
              "      <td>['Francis Ford Coppola', 'Mario Puzo']</td>\n",
              "      <td>['Al Pacino', 'Robert De Niro', 'Robert Duvall']</td>\n",
              "      <td>['nm0000199', 'nm0000134', 'nm0000380']</td>\n",
              "      <td>['90']</td>\n",
              "      <td>['9.0']</td>\n",
              "    </tr>\n",
              "    <tr>\n",
              "      <th>5</th>\n",
              "      <td>The Dark Knight</td>\n",
              "      <td>Christopher Nolan</td>\n",
              "      <td>['Jonathan Nolan', 'Christopher Nolan']</td>\n",
              "      <td>['Christian Bale', 'Heath Ledger', 'Aaron Eckh...</td>\n",
              "      <td>['nm0000288', 'nm0005132', 'nm0001173']</td>\n",
              "      <td>['82']</td>\n",
              "      <td>['9.0']</td>\n",
              "    </tr>\n",
              "    <tr>\n",
              "      <th>6</th>\n",
              "      <td>12 Angry Men</td>\n",
              "      <td>Sidney Lumet</td>\n",
              "      <td>['Reginald Rose', 'Reginald Rose']</td>\n",
              "      <td>['Henry Fonda', 'Lee J. Cobb', 'Martin Balsam']</td>\n",
              "      <td>['nm0000020', 'nm0002011', 'nm0000842']</td>\n",
              "      <td>['96']</td>\n",
              "      <td>['8.9']</td>\n",
              "    </tr>\n",
              "    <tr>\n",
              "      <th>7</th>\n",
              "      <td>Schindler's List</td>\n",
              "      <td>Steven Spielberg</td>\n",
              "      <td>['Thomas Keneally', 'Steven Zaillian']</td>\n",
              "      <td>['Liam Neeson', 'Ralph Fiennes', 'Ben Kingsley']</td>\n",
              "      <td>['nm0000553', 'nm0000146', 'nm0001426']</td>\n",
              "      <td>['93']</td>\n",
              "      <td>['8.9']</td>\n",
              "    </tr>\n",
              "    <tr>\n",
              "      <th>8</th>\n",
              "      <td>The Lord of the Rings: The Return of the King</td>\n",
              "      <td>Peter Jackson</td>\n",
              "      <td>['J.R.R. Tolkien', 'Fran Walsh']</td>\n",
              "      <td>['Elijah Wood', 'Viggo Mortensen', 'Ian McKell...</td>\n",
              "      <td>['nm0000704', 'nm0001557', 'nm0005212']</td>\n",
              "      <td>['94']</td>\n",
              "      <td>['8.9']</td>\n",
              "    </tr>\n",
              "    <tr>\n",
              "      <th>9</th>\n",
              "      <td>Pulp Fiction</td>\n",
              "      <td>Quentin Tarantino</td>\n",
              "      <td>['Quentin Tarantino', 'Roger Avary']</td>\n",
              "      <td>['John Travolta', 'Uma Thurman', 'Samuel L. Ja...</td>\n",
              "      <td>['nm0000237', 'nm0000235', 'nm0000168']</td>\n",
              "      <td>['94']</td>\n",
              "      <td>['8.9']</td>\n",
              "    </tr>\n",
              "    <tr>\n",
              "      <th>10</th>\n",
              "      <td>The Good, the Bad and the Ugly</td>\n",
              "      <td>Sergio Leone</td>\n",
              "      <td>['Luciano Vincenzoni', 'Sergio Leone']</td>\n",
              "      <td>['Clint Eastwood', 'Eli Wallach', 'Lee Van Cle...</td>\n",
              "      <td>['nm0000142', 'nm0908919', 'nm0001812']</td>\n",
              "      <td>['90']</td>\n",
              "      <td>['8.8']</td>\n",
              "    </tr>\n",
              "    <tr>\n",
              "      <th>11</th>\n",
              "      <td>Fight Club</td>\n",
              "      <td>David Fincher</td>\n",
              "      <td>['Chuck Palahniuk', 'Jim Uhls']</td>\n",
              "      <td>['Brad Pitt', 'Edward Norton', 'Meat Loaf']</td>\n",
              "      <td>['nm0000093', 'nm0001570', 'nm0001533']</td>\n",
              "      <td>['66']</td>\n",
              "      <td>['8.8']</td>\n",
              "    </tr>\n",
              "  </tbody>\n",
              "</table>\n",
              "</div>"
            ],
            "text/plain": [
              "                                            title             directors  \\\n",
              "id                                                                        \n",
              "2                        The Shawshank Redemption        Frank Darabont   \n",
              "3                                   The Godfather  Francis Ford Coppola   \n",
              "4                          The Godfather: Part II  Francis Ford Coppola   \n",
              "5                                 The Dark Knight     Christopher Nolan   \n",
              "6                                    12 Angry Men          Sidney Lumet   \n",
              "7                                Schindler's List      Steven Spielberg   \n",
              "8   The Lord of the Rings: The Return of the King         Peter Jackson   \n",
              "9                                    Pulp Fiction     Quentin Tarantino   \n",
              "10                 The Good, the Bad and the Ugly          Sergio Leone   \n",
              "11                                     Fight Club         David Fincher   \n",
              "\n",
              "                                    writers  \\\n",
              "id                                            \n",
              "2        ['Stephen King', 'Frank Darabont']   \n",
              "3    ['Mario Puzo', 'Francis Ford Coppola']   \n",
              "4    ['Francis Ford Coppola', 'Mario Puzo']   \n",
              "5   ['Jonathan Nolan', 'Christopher Nolan']   \n",
              "6        ['Reginald Rose', 'Reginald Rose']   \n",
              "7    ['Thomas Keneally', 'Steven Zaillian']   \n",
              "8          ['J.R.R. Tolkien', 'Fran Walsh']   \n",
              "9      ['Quentin Tarantino', 'Roger Avary']   \n",
              "10   ['Luciano Vincenzoni', 'Sergio Leone']   \n",
              "11          ['Chuck Palahniuk', 'Jim Uhls']   \n",
              "\n",
              "                                                stars  \\\n",
              "id                                                      \n",
              "2     ['Tim Robbins', 'Morgan Freeman', 'Bob Gunton']   \n",
              "3        ['Marlon Brando', 'Al Pacino', 'James Caan']   \n",
              "4    ['Al Pacino', 'Robert De Niro', 'Robert Duvall']   \n",
              "5   ['Christian Bale', 'Heath Ledger', 'Aaron Eckh...   \n",
              "6     ['Henry Fonda', 'Lee J. Cobb', 'Martin Balsam']   \n",
              "7    ['Liam Neeson', 'Ralph Fiennes', 'Ben Kingsley']   \n",
              "8   ['Elijah Wood', 'Viggo Mortensen', 'Ian McKell...   \n",
              "9   ['John Travolta', 'Uma Thurman', 'Samuel L. Ja...   \n",
              "10  ['Clint Eastwood', 'Eli Wallach', 'Lee Van Cle...   \n",
              "11        ['Brad Pitt', 'Edward Norton', 'Meat Loaf']   \n",
              "\n",
              "                                   stars_id popularity   rating  \n",
              "id                                                               \n",
              "2   ['nm0000209', 'nm0000151', 'nm0348409']     ['80']  ['9.2']  \n",
              "3   ['nm0000008', 'nm0000199', 'nm0001001']    ['100']  ['9.2']  \n",
              "4   ['nm0000199', 'nm0000134', 'nm0000380']     ['90']  ['9.0']  \n",
              "5   ['nm0000288', 'nm0005132', 'nm0001173']     ['82']  ['9.0']  \n",
              "6   ['nm0000020', 'nm0002011', 'nm0000842']     ['96']  ['8.9']  \n",
              "7   ['nm0000553', 'nm0000146', 'nm0001426']     ['93']  ['8.9']  \n",
              "8   ['nm0000704', 'nm0001557', 'nm0005212']     ['94']  ['8.9']  \n",
              "9   ['nm0000237', 'nm0000235', 'nm0000168']     ['94']  ['8.9']  \n",
              "10  ['nm0000142', 'nm0908919', 'nm0001812']     ['90']  ['8.8']  \n",
              "11  ['nm0000093', 'nm0001570', 'nm0001533']     ['66']  ['8.8']  "
            ]
          },
          "metadata": {
            "tags": []
          },
          "execution_count": 55
        }
      ]
    },
    {
      "metadata": {
        "id": "woALpLDoen1o",
        "colab_type": "text"
      },
      "cell_type": "markdown",
      "source": [
        "**165** movies in top 250 movies are performed by the **100** best stars who is defined that took more than one movies in the list. We picked up these 100 movie stars for future star research"
      ]
    },
    {
      "metadata": {
        "id": "5kKvkpbjWS6g",
        "colab_type": "code",
        "colab": {
          "base_uri": "https://localhost:8080/",
          "height": 1056
        },
        "outputId": "fee5f34a-d947-4f0d-c777-feb87a33f216"
      },
      "cell_type": "code",
      "source": [
        "# pick 100 stars for age analysis\n",
        "# rebin the year by 10 years\n",
        "df_movieStar_bin = df_movieStar.copy()\n",
        "df_movieStar_bin['name'] = df_movieStar_bin['name'].str[2:-2]\n",
        "df_movieStar_bin['born_year'] = df_movieStar_bin['born_year'].str[2:-2]\n",
        "df_movieStar_bin['born_area'] = df_movieStar_bin['born_area'].str[2:-2]\n",
        "df_movieStar_bin['born_year'] = pd.cut(pd.to_numeric(df_movieStar_bin['born_year'].str[0:4]),range(1900,2020,10),right=False)\n",
        "df_movieStar_bin = df_movieStar_bin.dropna()\n",
        "df_movieStar_bin['born_year'] = df_movieStar_bin['born_year'].astype(str).str[1:5] + 's'\n",
        "df_movieStar_bin = df_movieStar_bin[df_movieStar_bin.index.isin(df_star_2plus.values)]\n",
        "fig = plt.figure(figsize=(12,6))\n",
        "ax3 = plt.subplot()\n",
        "ax3.hist(df_movieStar_bin['born_year'])\n",
        "ax3.set_title('Histogram of Star born year')\n",
        "plt.show()\n",
        "\n",
        "# star city anlysis\n",
        "df_movieStar_bin['born_state'] = [x.split(',')[1] for x in df_movieStar_bin['born_area']]\n",
        "df_movieStar_by_state = df_movieStar_bin.groupby(['born_state']).size().sort_values(ascending=False)\n",
        "df_movieStar_by_state = df_movieStar_by_state[df_movieStar_by_state>=2].append(\n",
        "pd.Series(df_movieStar_by_state[df_movieStar_by_state<2].sum(),index=['Others']))\n",
        "print(df_movieStar_by_state)\n",
        "fig = plt.figure(figsize=(20,6))\n",
        "plt.bar(range(len(df_movieStar_by_state)), df_movieStar_by_state, align='center', alpha=0.5)\n",
        "plt.xticks(range(len(df_movieStar_by_state)), df_movieStar_by_state.index)\n",
        "plt.ylabel('# of Stars')\n",
        "plt.title('Movie Star by States')\n",
        "plt.show()\n"
      ],
      "execution_count": 153,
      "outputs": [
        {
          "output_type": "display_data",
          "data": {
            "image/png": "[encoded data removed]",
            "text/plain": [
              "<matplotlib.figure.Figure at 0x7fe343d41e10>"
            ]
          },
          "metadata": {
            "tags": []
          }
        },
        {
          "output_type": "stream",
          "text": [
            " California         12\n",
            " Illinois            7\n",
            " New Jersey          5\n",
            " London              4\n",
            " Massachusetts       4\n",
            " New York City       4\n",
            " New York            3\n",
            " Pennsylvania        3\n",
            " Nebraska            2\n",
            " New South Wales     2\n",
            " Wisconsin           2\n",
            " Texas               2\n",
            " Lancashire          2\n",
            " Ohio                2\n",
            " Ontario             2\n",
            "Others              41\n",
            "dtype: int64\n"
          ],
          "name": "stdout"
        },
        {
          "output_type": "display_data",
          "data": {
            "image/png": "[encoded data removed]",
            "text/plain": [
              "<matplotlib.figure.Figure at 0x7fe343ca6438>"
            ]
          },
          "metadata": {
            "tags": []
          }
        }
      ]
    },
    {
      "metadata": {
        "id": "Z8MP4V-AT_KB",
        "colab_type": "text"
      },
      "cell_type": "markdown",
      "source": [
        "From picked 100 movie stars, most of them are born between **1930s to 1970s**. **California, Illinois, New Jersey ** are the states with most movie stars. Even so, none of state or regions is predominant."
      ]
    },
    {
      "metadata": {
        "id": "V4GJ3dKc1ycs",
        "colab_type": "code",
        "colab": {
          "base_uri": "https://localhost:8080/",
          "height": 34
        },
        "outputId": "321f4967-830f-458c-eaf8-7ed002a80d04"
      },
      "cell_type": "code",
      "source": [
        "# review analysis"
      ],
      "execution_count": 132,
      "outputs": [
        {
          "output_type": "execute_result",
          "data": {
            "text/plain": [
              "'nm0000151'"
            ]
          },
          "metadata": {
            "tags": []
          },
          "execution_count": 132
        }
      ]
    }
  ]
}