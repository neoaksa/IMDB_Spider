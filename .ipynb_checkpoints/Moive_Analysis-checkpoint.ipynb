{
 "cells": [
  {
   "cell_type": "code",
   "execution_count": 83,
   "metadata": {},
   "outputs": [
    {
     "name": "stdout",
     "output_type": "stream",
     "text": [
      "                title        directors              writers  \\\n",
      "count             250              250                  250   \n",
      "unique            250              152                  224   \n",
      "top     Hacksaw Ridge  Martin Scorsese  ['Charles Chaplin']   \n",
      "freq                1                7                    5   \n",
      "\n",
      "                                                    stars popularity   rating  \n",
      "count                                                 250        250      250  \n",
      "unique                                                248         46       12  \n",
      "top     ['Mark Hamill', 'Harrison Ford', 'Carrie Fisher']         []  ['8.1']  \n",
      "freq                                                    3         50       68  \n"
     ]
    }
   ],
   "source": [
    "import pandas as pd\n",
    "import numpy as np\n",
    "\n",
    "df_movieItem = pd.read_csv('MovieItem.csv', delimiter=',',index_col=['id'])\n",
    "df_movieReview = pd.read_csv('MovieReview.csv', delimiter=',',index_col=['id'])\n",
    "# sort by index id(also known by rating)\n",
    "df_movieItem = df_movieItem.sort_index(axis=0)\n",
    "# overview\n",
    "print(df_movieItem.describe())\n"
   ]
  },
  {
   "cell_type": "code",
   "execution_count": 151,
   "metadata": {},
   "outputs": [
    {
     "name": "stderr",
     "output_type": "stream",
     "text": [
      "/usr/local/lib/python3.6/dist-packages/ipykernel_launcher.py:13: RuntimeWarning: invalid value encountered in long_scalars\n",
      "  del sys.path[0]\n"
     ]
    },
    {
     "data": {
      "text/html": [
       "<div>\n",
       "<style scoped>\n",
       "    .dataframe tbody tr th:only-of-type {\n",
       "        vertical-align: middle;\n",
       "    }\n",
       "\n",
       "    .dataframe tbody tr th {\n",
       "        vertical-align: top;\n",
       "    }\n",
       "\n",
       "    .dataframe thead th {\n",
       "        text-align: right;\n",
       "    }\n",
       "</style>\n",
       "<table border=\"1\" class=\"dataframe\">\n",
       "  <thead>\n",
       "    <tr style=\"text-align: right;\">\n",
       "      <th></th>\n",
       "      <th>stars</th>\n",
       "      <th>avg_rating</th>\n",
       "      <th>num_movie</th>\n",
       "    </tr>\n",
       "  </thead>\n",
       "  <tbody>\n",
       "    <tr>\n",
       "      <th>530</th>\n",
       "      <td>Robert De Niro</td>\n",
       "      <td>8.375</td>\n",
       "      <td>8</td>\n",
       "    </tr>\n",
       "    <tr>\n",
       "      <th>358</th>\n",
       "      <td>Harrison Ford</td>\n",
       "      <td>8.34286</td>\n",
       "      <td>7</td>\n",
       "    </tr>\n",
       "    <tr>\n",
       "      <th>423</th>\n",
       "      <td>Tom Hanks</td>\n",
       "      <td>8.38333</td>\n",
       "      <td>6</td>\n",
       "    </tr>\n",
       "    <tr>\n",
       "      <th>102</th>\n",
       "      <td>Leonardo DiCaprio</td>\n",
       "      <td>8.3</td>\n",
       "      <td>6</td>\n",
       "    </tr>\n",
       "    <tr>\n",
       "      <th>42</th>\n",
       "      <td>Clint Eastwood</td>\n",
       "      <td>8.28</td>\n",
       "      <td>5</td>\n",
       "    </tr>\n",
       "    <tr>\n",
       "      <th>264</th>\n",
       "      <td>Aamir Khan</td>\n",
       "      <td>8.2</td>\n",
       "      <td>5</td>\n",
       "    </tr>\n",
       "    <tr>\n",
       "      <th>446</th>\n",
       "      <td>Charles Chaplin</td>\n",
       "      <td>8.38</td>\n",
       "      <td>5</td>\n",
       "    </tr>\n",
       "    <tr>\n",
       "      <th>35</th>\n",
       "      <td>Christian Bale</td>\n",
       "      <td>8.525</td>\n",
       "      <td>4</td>\n",
       "    </tr>\n",
       "    <tr>\n",
       "      <th>33</th>\n",
       "      <td>Jack Nicholson</td>\n",
       "      <td>8.45</td>\n",
       "      <td>4</td>\n",
       "    </tr>\n",
       "    <tr>\n",
       "      <th>522</th>\n",
       "      <td>Matt Damon</td>\n",
       "      <td>8.325</td>\n",
       "      <td>4</td>\n",
       "    </tr>\n",
       "  </tbody>\n",
       "</table>\n",
       "</div>"
      ],
      "text/plain": [
       "                 stars avg_rating num_movie\n",
       "530     Robert De Niro      8.375         8\n",
       "358      Harrison Ford    8.34286         7\n",
       "423          Tom Hanks    8.38333         6\n",
       "102  Leonardo DiCaprio        8.3         6\n",
       "42      Clint Eastwood       8.28         5\n",
       "264         Aamir Khan        8.2         5\n",
       "446    Charles Chaplin       8.38         5\n",
       "35      Christian Bale      8.525         4\n",
       "33      Jack Nicholson       8.45         4\n",
       "522         Matt Damon      8.325         4"
      ]
     },
     "execution_count": 151,
     "metadata": {},
     "output_type": "execute_result"
    }
   ],
   "source": [
    "# stars analysis\n",
    "star_list = []\n",
    "for stars in df_movieItem['stars']:\n",
    "    star_list += [x.lstrip().replace('\"','') for x in stars[1:-1].replace('\\'','').split(',')]\n",
    "# reduce duplicate\n",
    "star_list = list(set(star_list))\n",
    "# create a dataframe for output\n",
    "df_star = pd.DataFrame(columns=['stars','avg_rating','num_movie'])\n",
    "df_star['stars'] = star_list\n",
    "for index,star in enumerate(df_star['stars']):\n",
    "    filter = movieItem['stars'].str.contains(star)\n",
    "    df_star['num_movie'][index] = len(movieItem[filter])\n",
    "    df_star['avg_rating'][index] = pd.to_numeric(movieItem[filter]['rating'].str[2:-2]).sum(axis=0)/df_star['num_movie'][index]\n",
    "df_star.sort_values(['num_movie'],ascending=False).head(10)"
   ]
  },
  {
   "cell_type": "code",
   "execution_count": null,
   "metadata": {},
   "outputs": [],
   "source": [
    "# visual stars\n",
    "import matplotlib.pyplot as plt\n",
    "plt.hist(df_star['num_movie'],bins=20)\n",
    "plt.show()"
   ]
  },
  {
   "cell_type": "code",
   "execution_count": null,
   "metadata": {},
   "outputs": [],
   "source": []
  },
  {
   "cell_type": "code",
   "execution_count": null,
   "metadata": {},
   "outputs": [],
   "source": []
  },
  {
   "cell_type": "code",
   "execution_count": 10,
   "metadata": {},
   "outputs": [],
   "source": []
  },
  {
   "cell_type": "code",
   "execution_count": null,
   "metadata": {},
   "outputs": [],
   "source": []
  }
 ],
 "metadata": {
  "kernelspec": {
   "display_name": "Python 3",
   "language": "python",
   "name": "python3"
  },
  "language_info": {
   "codemirror_mode": {
    "name": "ipython",
    "version": 3
   },
   "file_extension": ".py",
   "mimetype": "text/x-python",
   "name": "python",
   "nbconvert_exporter": "python",
   "pygments_lexer": "ipython3",
   "version": "3.6.5"
  }
 },
 "nbformat": 4,
 "nbformat_minor": 1
}
